{
  "nbformat": 4,
  "nbformat_minor": 0,
  "metadata": {
    "colab": {
      "name": "Transformer_PyTorch.ipynb",
      "provenance": []
    },
    "kernelspec": {
      "name": "python3",
      "display_name": "Python 3"
    }
  },
  "cells": [
    {
      "cell_type": "code",
      "metadata": {
        "colab": {
          "base_uri": "https://localhost:8080/"
        },
        "id": "i40LWTTARLhB",
        "outputId": "eba272ad-5104-4ad5-b61c-344645d071b1"
      },
      "source": [
        "!pip install torch"
      ],
      "execution_count": 1,
      "outputs": [
        {
          "output_type": "stream",
          "text": [
            "Requirement already satisfied: torch in /usr/local/lib/python3.7/dist-packages (1.8.0+cu101)\n",
            "Requirement already satisfied: numpy in /usr/local/lib/python3.7/dist-packages (from torch) (1.19.5)\n",
            "Requirement already satisfied: typing-extensions in /usr/local/lib/python3.7/dist-packages (from torch) (3.7.4.3)\n"
          ],
          "name": "stdout"
        }
      ]
    },
    {
      "cell_type": "code",
      "metadata": {
        "id": "OVgBK1-_RSXT"
      },
      "source": [
        "from __future__ import unicode_literals, print_function, division\r\n",
        "from io import open\r\n",
        "import unicodedata\r\n",
        "import string\r\n",
        "import re\r\n",
        "import random\r\n",
        "\r\n",
        "import torch\r\n",
        "import torch.nn as nn\r\n",
        "from torch import optim\r\n",
        "import torch.nn.functional as F\r\n",
        "\r\n",
        "device = torch.device(\"cuda\" if torch.cuda.is_available() else \"cpu\")"
      ],
      "execution_count": 2,
      "outputs": []
    },
    {
      "cell_type": "code",
      "metadata": {
        "id": "PMwhgaJbRSZ7"
      },
      "source": [
        "SOS_token = 0\r\n",
        "EOS_token = 1\r\n",
        "\r\n",
        "\r\n",
        "class Lang:\r\n",
        "    def __init__(self, name):\r\n",
        "        self.name = name\r\n",
        "        self.word2index = {}\r\n",
        "        self.word2count = {}\r\n",
        "        self.index2word = {0: \"SOS\", 1: \"EOS\"}\r\n",
        "        self.n_words = 2  # Count SOS and EOS\r\n",
        "\r\n",
        "    def addSentence(self, sentence):\r\n",
        "        for word in sentence.split(' '):\r\n",
        "            self.addWord(word)\r\n",
        "\r\n",
        "    def addWord(self, word):\r\n",
        "        if word not in self.word2index:\r\n",
        "            self.word2index[word] = self.n_words\r\n",
        "            self.word2count[word] = 1\r\n",
        "            self.index2word[self.n_words] = word\r\n",
        "            self.n_words += 1\r\n",
        "        else:\r\n",
        "            self.word2count[word] += 1"
      ],
      "execution_count": 3,
      "outputs": []
    },
    {
      "cell_type": "code",
      "metadata": {
        "id": "XcSVJOeIYbmy"
      },
      "source": [
        "# Turn a Unicode string to plain ASCII, thanks to\r\n",
        "# https://stackoverflow.com/a/518232/2809427\r\n",
        "def unicodeToAscii(s):\r\n",
        "    return ''.join(\r\n",
        "        c for c in unicodedata.normalize('NFD', s)\r\n",
        "        if unicodedata.category(c) != 'Mn'\r\n",
        "    )\r\n",
        "\r\n",
        "# Lowercase, trim, and remove non-letter characters\r\n",
        "\r\n",
        "\r\n",
        "def normalizeString(s):\r\n",
        "    s = unicodeToAscii(s.lower().strip())\r\n",
        "    s = re.sub(r\"([.!?])\", r\" \\1\", s)\r\n",
        "    s = re.sub(r\"[^a-zA-Z.!?]+\", r\" \", s)\r\n",
        "    return s"
      ],
      "execution_count": 4,
      "outputs": []
    },
    {
      "cell_type": "code",
      "metadata": {
        "id": "ORrqE9cKYecC"
      },
      "source": [
        "def readLangs(lang1, lang2, reverse=False):\r\n",
        "    print(\"Reading lines...\")\r\n",
        "\r\n",
        "    # Read the file and split into lines\r\n",
        "    lines = open('data/%s-%s.txt' % (lang1, lang2), encoding='utf-8').\\\r\n",
        "        read().strip().split('\\n')\r\n",
        "\r\n",
        "    # Split every line into pairs and normalize\r\n",
        "    pairs = [[normalizeString(s) for s in l.split('\\t')] for l in lines]\r\n",
        "\r\n",
        "    # Reverse pairs, make Lang instances\r\n",
        "    if reverse:\r\n",
        "        pairs = [list(reversed(p)) for p in pairs]\r\n",
        "        input_lang = Lang(lang2)\r\n",
        "        output_lang = Lang(lang1)\r\n",
        "    else:\r\n",
        "        input_lang = Lang(lang1)\r\n",
        "        output_lang = Lang(lang2)\r\n",
        "\r\n",
        "    return input_lang, output_lang, pairs"
      ],
      "execution_count": 5,
      "outputs": []
    },
    {
      "cell_type": "code",
      "metadata": {
        "id": "gLPGI85HYhJJ"
      },
      "source": [
        "MAX_LENGTH = 10\r\n",
        "\r\n",
        "eng_prefixes = (\r\n",
        "    \"i am \", \"i m \",\r\n",
        "    \"he is\", \"he s \",\r\n",
        "    \"she is\", \"she s \",\r\n",
        "    \"you are\", \"you re \",\r\n",
        "    \"we are\", \"we re \",\r\n",
        "    \"they are\", \"they re \"\r\n",
        ")\r\n",
        "\r\n",
        "\r\n",
        "def filterPair(p):\r\n",
        "    return len(p[0].split(' ')) < MAX_LENGTH and \\\r\n",
        "        len(p[1].split(' ')) < MAX_LENGTH and \\\r\n",
        "        p[1].startswith(eng_prefixes)\r\n",
        "\r\n",
        "\r\n",
        "def filterPairs(pairs):\r\n",
        "    return [pair for pair in pairs if filterPair(pair)]"
      ],
      "execution_count": 6,
      "outputs": []
    },
    {
      "cell_type": "code",
      "metadata": {
        "colab": {
          "base_uri": "https://localhost:8080/"
        },
        "id": "RFpWYPXlYlZJ",
        "outputId": "df771804-37a8-4c2f-8f19-ad36ac3f72a4"
      },
      "source": [
        "def prepareData(lang1, lang2, reverse=False):\r\n",
        "    input_lang, output_lang, pairs = readLangs(lang1, lang2, reverse)\r\n",
        "    print(\"Read %s sentence pairs\" % len(pairs))\r\n",
        "    pairs = filterPairs(pairs)\r\n",
        "    print(\"Trimmed to %s sentence pairs\" % len(pairs))\r\n",
        "    print(\"Counting words...\")\r\n",
        "    for pair in pairs:\r\n",
        "        input_lang.addSentence(pair[0])\r\n",
        "        output_lang.addSentence(pair[1])\r\n",
        "    print(\"Counted words:\")\r\n",
        "    print(input_lang.name, input_lang.n_words)\r\n",
        "    print(output_lang.name, output_lang.n_words)\r\n",
        "    return input_lang, output_lang, pairs\r\n",
        "\r\n",
        "\r\n",
        "input_lang, output_lang, pairs = prepareData('eng', 'fra', True)\r\n",
        "print(random.choice(pairs))"
      ],
      "execution_count": 10,
      "outputs": [
        {
          "output_type": "stream",
          "text": [
            "Reading lines...\n",
            "Read 135842 sentence pairs\n",
            "Trimmed to 10599 sentence pairs\n",
            "Counting words...\n",
            "Counted words:\n",
            "fra 4345\n",
            "eng 2803\n",
            "['elle est beaucoup plus lourde que lui .', 'she s much heavier than him .']\n"
          ],
          "name": "stdout"
        }
      ]
    },
    {
      "cell_type": "code",
      "metadata": {
        "id": "mxJNzMENZgcp"
      },
      "source": [
        "class EncoderRNN(nn.Module):\r\n",
        "    def __init__(self, input_size, hidden_size):\r\n",
        "        super(EncoderRNN, self).__init__()\r\n",
        "        self.hidden_size = hidden_size\r\n",
        "\r\n",
        "        self.embedding = nn.Embedding(input_size, hidden_size)\r\n",
        "        self.gru = nn.GRU(hidden_size, hidden_size)\r\n",
        "\r\n",
        "    def forward(self, input, hidden):\r\n",
        "        embedded = self.embedding(input).view(1, 1, -1)\r\n",
        "        output = embedded\r\n",
        "        output, hidden = self.gru(output, hidden)\r\n",
        "        return output, hidden\r\n",
        "\r\n",
        "    def initHidden(self):\r\n",
        "        return torch.zeros(1, 1, self.hidden_size, device=device)"
      ],
      "execution_count": 11,
      "outputs": []
    },
    {
      "cell_type": "code",
      "metadata": {
        "id": "4LI1ytVoZnR5"
      },
      "source": [
        "class DecoderRNN(nn.Module):\r\n",
        "    def __init__(self, hidden_size, output_size):\r\n",
        "        super(DecoderRNN, self).__init__()\r\n",
        "        self.hidden_size = hidden_size\r\n",
        "\r\n",
        "        self.embedding = nn.Embedding(output_size, hidden_size)\r\n",
        "        self.gru = nn.GRU(hidden_size, hidden_size)\r\n",
        "        self.out = nn.Linear(hidden_size, output_size)\r\n",
        "        self.softmax = nn.LogSoftmax(dim=1)\r\n",
        "\r\n",
        "    def forward(self, input, hidden):\r\n",
        "        output = self.embedding(input).view(1, 1, -1)\r\n",
        "        output = F.relu(output)\r\n",
        "        output, hidden = self.gru(output, hidden)\r\n",
        "        output = self.softmax(self.out(output[0]))\r\n",
        "        return output, hidden\r\n",
        "\r\n",
        "    def initHidden(self):\r\n",
        "        return torch.zeros(1, 1, self.hidden_size, device=device)"
      ],
      "execution_count": 12,
      "outputs": []
    },
    {
      "cell_type": "code",
      "metadata": {
        "id": "v9emlS8TZrEw"
      },
      "source": [
        "class AttnDecoderRNN(nn.Module):\r\n",
        "    def __init__(self, hidden_size, output_size, dropout_p=0.1, max_length=MAX_LENGTH):\r\n",
        "        super(AttnDecoderRNN, self).__init__()\r\n",
        "        self.hidden_size = hidden_size\r\n",
        "        self.output_size = output_size\r\n",
        "        self.dropout_p = dropout_p\r\n",
        "        self.max_length = max_length\r\n",
        "\r\n",
        "        self.embedding = nn.Embedding(self.output_size, self.hidden_size)\r\n",
        "        self.attn = nn.Linear(self.hidden_size * 2, self.max_length)\r\n",
        "        self.attn_combine = nn.Linear(self.hidden_size * 2, self.hidden_size)\r\n",
        "        self.dropout = nn.Dropout(self.dropout_p)\r\n",
        "        self.gru = nn.GRU(self.hidden_size, self.hidden_size)\r\n",
        "        self.out = nn.Linear(self.hidden_size, self.output_size)\r\n",
        "\r\n",
        "    def forward(self, input, hidden, encoder_outputs):\r\n",
        "        embedded = self.embedding(input).view(1, 1, -1)\r\n",
        "        embedded = self.dropout(embedded)\r\n",
        "\r\n",
        "        attn_weights = F.softmax(\r\n",
        "            self.attn(torch.cat((embedded[0], hidden[0]), 1)), dim=1)\r\n",
        "        attn_applied = torch.bmm(attn_weights.unsqueeze(0),\r\n",
        "                                 encoder_outputs.unsqueeze(0))\r\n",
        "\r\n",
        "        output = torch.cat((embedded[0], attn_applied[0]), 1)\r\n",
        "        output = self.attn_combine(output).unsqueeze(0)\r\n",
        "\r\n",
        "        output = F.relu(output)\r\n",
        "        output, hidden = self.gru(output, hidden)\r\n",
        "\r\n",
        "        output = F.log_softmax(self.out(output[0]), dim=1)\r\n",
        "        return output, hidden, attn_weights\r\n",
        "\r\n",
        "    def initHidden(self):\r\n",
        "        return torch.zeros(1, 1, self.hidden_size, device=device)"
      ],
      "execution_count": 13,
      "outputs": []
    },
    {
      "cell_type": "code",
      "metadata": {
        "id": "k4qXyVSXZv_5"
      },
      "source": [
        "def indexesFromSentence(lang, sentence):\r\n",
        "    return [lang.word2index[word] for word in sentence.split(' ')]\r\n",
        "\r\n",
        "\r\n",
        "def tensorFromSentence(lang, sentence):\r\n",
        "    indexes = indexesFromSentence(lang, sentence)\r\n",
        "    indexes.append(EOS_token)\r\n",
        "    return torch.tensor(indexes, dtype=torch.long, device=device).view(-1, 1)\r\n",
        "\r\n",
        "\r\n",
        "def tensorsFromPair(pair):\r\n",
        "    input_tensor = tensorFromSentence(input_lang, pair[0])\r\n",
        "    target_tensor = tensorFromSentence(output_lang, pair[1])\r\n",
        "    return (input_tensor, target_tensor)"
      ],
      "execution_count": 14,
      "outputs": []
    },
    {
      "cell_type": "code",
      "metadata": {
        "id": "gO9ZOymMZzfx"
      },
      "source": [
        "teacher_forcing_ratio = 0.5\r\n",
        "\r\n",
        "\r\n",
        "def train(input_tensor, target_tensor, encoder, decoder, encoder_optimizer, decoder_optimizer, criterion, max_length=MAX_LENGTH):\r\n",
        "    encoder_hidden = encoder.initHidden()\r\n",
        "\r\n",
        "    encoder_optimizer.zero_grad()\r\n",
        "    decoder_optimizer.zero_grad()\r\n",
        "\r\n",
        "    input_length = input_tensor.size(0)\r\n",
        "    target_length = target_tensor.size(0)\r\n",
        "\r\n",
        "    encoder_outputs = torch.zeros(max_length, encoder.hidden_size, device=device)\r\n",
        "\r\n",
        "    loss = 0\r\n",
        "\r\n",
        "    for ei in range(input_length):\r\n",
        "        encoder_output, encoder_hidden = encoder(\r\n",
        "            input_tensor[ei], encoder_hidden)\r\n",
        "        encoder_outputs[ei] = encoder_output[0, 0]\r\n",
        "\r\n",
        "    decoder_input = torch.tensor([[SOS_token]], device=device)\r\n",
        "\r\n",
        "    decoder_hidden = encoder_hidden\r\n",
        "\r\n",
        "    use_teacher_forcing = True if random.random() < teacher_forcing_ratio else False\r\n",
        "\r\n",
        "    if use_teacher_forcing:\r\n",
        "        # Teacher forcing: Feed the target as the next input\r\n",
        "        for di in range(target_length):\r\n",
        "            decoder_output, decoder_hidden, decoder_attention = decoder(\r\n",
        "                decoder_input, decoder_hidden, encoder_outputs)\r\n",
        "            loss += criterion(decoder_output, target_tensor[di])\r\n",
        "            decoder_input = target_tensor[di]  # Teacher forcing\r\n",
        "\r\n",
        "    else:\r\n",
        "        # Without teacher forcing: use its own predictions as the next input\r\n",
        "        for di in range(target_length):\r\n",
        "            decoder_output, decoder_hidden, decoder_attention = decoder(\r\n",
        "                decoder_input, decoder_hidden, encoder_outputs)\r\n",
        "            topv, topi = decoder_output.topk(1)\r\n",
        "            decoder_input = topi.squeeze().detach()  # detach from history as input\r\n",
        "\r\n",
        "            loss += criterion(decoder_output, target_tensor[di])\r\n",
        "            if decoder_input.item() == EOS_token:\r\n",
        "                break\r\n",
        "\r\n",
        "    loss.backward()\r\n",
        "\r\n",
        "    encoder_optimizer.step()\r\n",
        "    decoder_optimizer.step()\r\n",
        "\r\n",
        "    return loss.item() / target_length"
      ],
      "execution_count": 15,
      "outputs": []
    },
    {
      "cell_type": "code",
      "metadata": {
        "id": "fME0PIriZ6KJ"
      },
      "source": [
        "import time\r\n",
        "import math\r\n",
        "\r\n",
        "\r\n",
        "def asMinutes(s):\r\n",
        "    m = math.floor(s / 60)\r\n",
        "    s -= m * 60\r\n",
        "    return '%dm %ds' % (m, s)\r\n",
        "\r\n",
        "\r\n",
        "def timeSince(since, percent):\r\n",
        "    now = time.time()\r\n",
        "    s = now - since\r\n",
        "    es = s / (percent)\r\n",
        "    rs = es - s\r\n",
        "    return '%s (- %s)' % (asMinutes(s), asMinutes(rs))"
      ],
      "execution_count": 16,
      "outputs": []
    },
    {
      "cell_type": "code",
      "metadata": {
        "id": "PR_dMwSuZ9sJ"
      },
      "source": [
        "def trainIters(encoder, decoder, n_iters, print_every=1000, plot_every=100, learning_rate=0.01):\r\n",
        "    start = time.time()\r\n",
        "    plot_losses = []\r\n",
        "    print_loss_total = 0  # Reset every print_every\r\n",
        "    plot_loss_total = 0  # Reset every plot_every\r\n",
        "\r\n",
        "    encoder_optimizer = optim.SGD(encoder.parameters(), lr=learning_rate)\r\n",
        "    decoder_optimizer = optim.SGD(decoder.parameters(), lr=learning_rate)\r\n",
        "    training_pairs = [tensorsFromPair(random.choice(pairs))\r\n",
        "                      for i in range(n_iters)]\r\n",
        "    criterion = nn.NLLLoss()\r\n",
        "\r\n",
        "    for iter in range(1, n_iters + 1):\r\n",
        "        training_pair = training_pairs[iter - 1]\r\n",
        "        input_tensor = training_pair[0]\r\n",
        "        target_tensor = training_pair[1]\r\n",
        "\r\n",
        "        loss = train(input_tensor, target_tensor, encoder,\r\n",
        "                     decoder, encoder_optimizer, decoder_optimizer, criterion)\r\n",
        "        print_loss_total += loss\r\n",
        "        plot_loss_total += loss\r\n",
        "\r\n",
        "        if iter % print_every == 0:\r\n",
        "            print_loss_avg = print_loss_total / print_every\r\n",
        "            print_loss_total = 0\r\n",
        "            print('%s (%d %d%%) %.4f' % (timeSince(start, iter / n_iters),\r\n",
        "                                         iter, iter / n_iters * 100, print_loss_avg))\r\n",
        "\r\n",
        "        if iter % plot_every == 0:\r\n",
        "            plot_loss_avg = plot_loss_total / plot_every\r\n",
        "            plot_losses.append(plot_loss_avg)\r\n",
        "            plot_loss_total = 0\r\n",
        "\r\n",
        "    showPlot(plot_losses)"
      ],
      "execution_count": 17,
      "outputs": []
    },
    {
      "cell_type": "code",
      "metadata": {
        "id": "5MogU8rZaAjy"
      },
      "source": [
        "import matplotlib.pyplot as plt\r\n",
        "plt.switch_backend('agg')\r\n",
        "import matplotlib.ticker as ticker\r\n",
        "import numpy as np\r\n",
        "\r\n",
        "\r\n",
        "def showPlot(points):\r\n",
        "    plt.figure()\r\n",
        "    fig, ax = plt.subplots()\r\n",
        "    # this locator puts ticks at regular intervals\r\n",
        "    loc = ticker.MultipleLocator(base=0.2)\r\n",
        "    ax.yaxis.set_major_locator(loc)\r\n",
        "    plt.plot(points)"
      ],
      "execution_count": 18,
      "outputs": []
    },
    {
      "cell_type": "code",
      "metadata": {
        "id": "KcliQ1GVaDC5"
      },
      "source": [
        "def evaluate(encoder, decoder, sentence, max_length=MAX_LENGTH):\r\n",
        "    with torch.no_grad():\r\n",
        "        input_tensor = tensorFromSentence(input_lang, sentence)\r\n",
        "        input_length = input_tensor.size()[0]\r\n",
        "        encoder_hidden = encoder.initHidden()\r\n",
        "\r\n",
        "        encoder_outputs = torch.zeros(max_length, encoder.hidden_size, device=device)\r\n",
        "\r\n",
        "        for ei in range(input_length):\r\n",
        "            encoder_output, encoder_hidden = encoder(input_tensor[ei],\r\n",
        "                                                     encoder_hidden)\r\n",
        "            encoder_outputs[ei] += encoder_output[0, 0]\r\n",
        "\r\n",
        "        decoder_input = torch.tensor([[SOS_token]], device=device)  # SOS\r\n",
        "\r\n",
        "        decoder_hidden = encoder_hidden\r\n",
        "\r\n",
        "        decoded_words = []\r\n",
        "        decoder_attentions = torch.zeros(max_length, max_length)\r\n",
        "\r\n",
        "        for di in range(max_length):\r\n",
        "            decoder_output, decoder_hidden, decoder_attention = decoder(\r\n",
        "                decoder_input, decoder_hidden, encoder_outputs)\r\n",
        "            decoder_attentions[di] = decoder_attention.data\r\n",
        "            topv, topi = decoder_output.data.topk(1)\r\n",
        "            if topi.item() == EOS_token:\r\n",
        "                decoded_words.append('<EOS>')\r\n",
        "                break\r\n",
        "            else:\r\n",
        "                decoded_words.append(output_lang.index2word[topi.item()])\r\n",
        "\r\n",
        "            decoder_input = topi.squeeze().detach()\r\n",
        "\r\n",
        "        return decoded_words, decoder_attentions[:di + 1]"
      ],
      "execution_count": 19,
      "outputs": []
    },
    {
      "cell_type": "code",
      "metadata": {
        "id": "fegVSvhWaGT4"
      },
      "source": [
        "def evaluateRandomly(encoder, decoder, n=10):\r\n",
        "    for i in range(n):\r\n",
        "        pair = random.choice(pairs)\r\n",
        "        print('>', pair[0])\r\n",
        "        print('=', pair[1])\r\n",
        "        output_words, attentions = evaluate(encoder, decoder, pair[0])\r\n",
        "        output_sentence = ' '.join(output_words)\r\n",
        "        print('<', output_sentence)\r\n",
        "        print('')"
      ],
      "execution_count": 20,
      "outputs": []
    },
    {
      "cell_type": "code",
      "metadata": {
        "id": "Lc1gdUCdaIsY"
      },
      "source": [
        "hidden_size = 256\r\n",
        "encoder1 = EncoderRNN(input_lang.n_words, hidden_size).to(device)\r\n",
        "attn_decoder1 = AttnDecoderRNN(hidden_size, output_lang.n_words, dropout_p=0.1).to(device)\r\n",
        "\r\n",
        "trainIters(encoder1, attn_decoder1, 75000, print_every=5000)"
      ],
      "execution_count": null,
      "outputs": []
    },
    {
      "cell_type": "code",
      "metadata": {
        "id": "jVw5SzaMaRJJ"
      },
      "source": [
        "evaluateRandomly(encoder1, attn_decoder1)"
      ],
      "execution_count": null,
      "outputs": []
    },
    {
      "cell_type": "code",
      "metadata": {
        "id": "noH3n3J5aSRo"
      },
      "source": [
        "output_words, attentions = evaluate(\r\n",
        "    encoder1, attn_decoder1, \"je suis trop froid .\")\r\n",
        "plt.matshow(attentions.numpy())"
      ],
      "execution_count": null,
      "outputs": []
    },
    {
      "cell_type": "code",
      "metadata": {
        "id": "A5Elg5a6aVZI"
      },
      "source": [
        "def showAttention(input_sentence, output_words, attentions):\r\n",
        "    # Set up figure with colorbar\r\n",
        "    fig = plt.figure()\r\n",
        "    ax = fig.add_subplot(111)\r\n",
        "    cax = ax.matshow(attentions.numpy(), cmap='bone')\r\n",
        "    fig.colorbar(cax)\r\n",
        "\r\n",
        "    # Set up axes\r\n",
        "    ax.set_xticklabels([''] + input_sentence.split(' ') +\r\n",
        "                       ['<EOS>'], rotation=90)\r\n",
        "    ax.set_yticklabels([''] + output_words)\r\n",
        "\r\n",
        "    # Show label at every tick\r\n",
        "    ax.xaxis.set_major_locator(ticker.MultipleLocator(1))\r\n",
        "    ax.yaxis.set_major_locator(ticker.MultipleLocator(1))\r\n",
        "\r\n",
        "    plt.show()\r\n",
        "\r\n",
        "\r\n",
        "def evaluateAndShowAttention(input_sentence):\r\n",
        "    output_words, attentions = evaluate(\r\n",
        "        encoder1, attn_decoder1, input_sentence)\r\n",
        "    print('input =', input_sentence)\r\n",
        "    print('output =', ' '.join(output_words))\r\n",
        "    showAttention(input_sentence, output_words, attentions)\r\n",
        "\r\n",
        "\r\n",
        "evaluateAndShowAttention(\"elle a cinq ans de moins que moi .\")\r\n",
        "\r\n",
        "evaluateAndShowAttention(\"elle est trop petit .\")\r\n",
        "\r\n",
        "evaluateAndShowAttention(\"je ne crains pas de mourir .\")\r\n",
        "\r\n",
        "evaluateAndShowAttention(\"c est un jeune directeur plein de talent .\")"
      ],
      "execution_count": null,
      "outputs": []
    },
    {
      "cell_type": "code",
      "metadata": {
        "id": "vqUhComTaawB"
      },
      "source": [
        ""
      ],
      "execution_count": null,
      "outputs": []
    },
    {
      "cell_type": "code",
      "metadata": {
        "id": "bk3us4CjRSfT"
      },
      "source": [
        ""
      ],
      "execution_count": 1,
      "outputs": []
    },
    {
      "cell_type": "code",
      "metadata": {
        "id": "n8rZJj_URSiQ"
      },
      "source": [
        ""
      ],
      "execution_count": null,
      "outputs": []
    }
  ]
}