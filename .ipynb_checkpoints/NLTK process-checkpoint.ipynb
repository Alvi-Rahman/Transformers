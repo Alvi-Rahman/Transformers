{
 "cells": [
  {
   "cell_type": "code",
   "execution_count": 1,
   "id": "southeast-hughes",
   "metadata": {},
   "outputs": [],
   "source": [
    "import nltk"
   ]
  },
  {
   "cell_type": "code",
   "execution_count": null,
   "id": "broad-sending",
   "metadata": {},
   "outputs": [],
   "source": []
  },
  {
   "cell_type": "code",
   "execution_count": 2,
   "id": "covered-inclusion",
   "metadata": {},
   "outputs": [
    {
     "name": "stdout",
     "output_type": "stream",
     "text": [
      "['While', 'it', '’', 's', 'easy', 'to', 'get', 'starstruck', 'by', 'its', 'Pro', 'sibling', ',', 'the', 'OnePlus', '9', 'is', 'a', 'capable', 'alternative', 'at', 'a', 'lower', 'cost', '.', 'You', '’', 're', 'looking', 'at', 'quite', 'a', 'gap', ',', 'especially', 'in', 'the', 'US', 'where', '(', 'for', 'some', 'unknown', 'reason', ')', ',', 'the', 'base', '8/128', 'GB', 'version', 'of', 'the', '9', 'Pro', 'is', 'not', 'available', '.', 'This', 'means', 'you', 'can', 'have', 'the', 'vanilla', 'phone', 'for', '$', '730', 'or', 'the', '12/256', 'GB', 'Pro', 'for', '$', '1,070']\n"
     ]
    }
   ],
   "source": [
    "text = \"While it’s easy to get starstruck by its Pro sibling, the OnePlus 9 is a capable alternative at a lower cost. You’re looking at quite a gap, especially in the US where (for some unknown reason), the base 8/128 GB version of the 9 Pro is not available. This means you can have the vanilla phone for $730 or the 12/256 GB Pro for $1,070\"\n",
    "tokens = nltk.word_tokenize(text)\n",
    "print(tokens)"
   ]
  },
  {
   "cell_type": "code",
   "execution_count": 3,
   "id": "retained-economy",
   "metadata": {},
   "outputs": [
    {
     "name": "stdout",
     "output_type": "stream",
     "text": [
      "[('While', 'IN'), ('it', 'PRP'), ('’', 'VBZ'), ('s', 'JJ'), ('easy', 'JJ'), ('to', 'TO'), ('get', 'VB'), ('starstruck', 'VBN'), ('by', 'IN'), ('its', 'PRP$'), ('Pro', 'NNP'), ('sibling', 'NN'), (',', ','), ('the', 'DT'), ('OnePlus', 'NNP'), ('9', 'CD'), ('is', 'VBZ'), ('a', 'DT'), ('capable', 'JJ'), ('alternative', 'NN'), ('at', 'IN'), ('a', 'DT'), ('lower', 'JJR'), ('cost', 'NN'), ('.', '.'), ('You', 'PRP'), ('’', 'VBP'), ('re', 'JJ'), ('looking', 'VBG'), ('at', 'IN'), ('quite', 'PDT'), ('a', 'DT'), ('gap', 'NN'), (',', ','), ('especially', 'RB'), ('in', 'IN'), ('the', 'DT'), ('US', 'NNP'), ('where', 'WRB'), ('(', '('), ('for', 'IN'), ('some', 'DT'), ('unknown', 'JJ'), ('reason', 'NN'), (')', ')'), (',', ','), ('the', 'DT'), ('base', 'NN'), ('8/128', 'CD'), ('GB', 'NNP'), ('version', 'NN'), ('of', 'IN'), ('the', 'DT'), ('9', 'CD'), ('Pro', 'NNP'), ('is', 'VBZ'), ('not', 'RB'), ('available', 'JJ'), ('.', '.'), ('This', 'DT'), ('means', 'VBZ'), ('you', 'PRP'), ('can', 'MD'), ('have', 'VB'), ('the', 'DT'), ('vanilla', 'NN'), ('phone', 'NN'), ('for', 'IN'), ('$', '$'), ('730', 'CD'), ('or', 'CC'), ('the', 'DT'), ('12/256', 'CD'), ('GB', 'NNP'), ('Pro', 'NNP'), ('for', 'IN'), ('$', '$'), ('1,070', 'CD')]\n"
     ]
    }
   ],
   "source": [
    "tag = nltk.pos_tag(tokens)\n",
    "print(tag)"
   ]
  },
  {
   "cell_type": "code",
   "execution_count": 4,
   "id": "ambient-chosen",
   "metadata": {
    "scrolled": true
   },
   "outputs": [
    {
     "name": "stdout",
     "output_type": "stream",
     "text": [
      "(S\n",
      "  While/IN\n",
      "  it/PRP\n",
      "  ’/VBZ\n",
      "  s/JJ\n",
      "  easy/JJ\n",
      "  to/TO\n",
      "  get/VB\n",
      "  starstruck/VBN\n",
      "  by/IN\n",
      "  its/PRP$\n",
      "  Pro/NNP\n",
      "  (NP sibling/NN)\n",
      "  ,/,\n",
      "  the/DT\n",
      "  OnePlus/NNP\n",
      "  9/CD\n",
      "  is/VBZ\n",
      "  (NP a/DT capable/JJ alternative/NN)\n",
      "  at/IN\n",
      "  a/DT\n",
      "  lower/JJR\n",
      "  (NP cost/NN)\n",
      "  ./.\n",
      "  You/PRP\n",
      "  ’/VBP\n",
      "  re/JJ\n",
      "  looking/VBG\n",
      "  at/IN\n",
      "  quite/PDT\n",
      "  (NP a/DT gap/NN)\n",
      "  ,/,\n",
      "  especially/RB\n",
      "  in/IN\n",
      "  the/DT\n",
      "  US/NNP\n",
      "  where/WRB\n",
      "  (/(\n",
      "  for/IN\n",
      "  (NP some/DT unknown/JJ reason/NN)\n",
      "  )/)\n",
      "  ,/,\n",
      "  (NP the/DT base/NN)\n",
      "  8/128/CD\n",
      "  GB/NNP\n",
      "  (NP version/NN)\n",
      "  of/IN\n",
      "  the/DT\n",
      "  9/CD\n",
      "  Pro/NNP\n",
      "  is/VBZ\n",
      "  not/RB\n",
      "  available/JJ\n",
      "  ./.\n",
      "  This/DT\n",
      "  means/VBZ\n",
      "  you/PRP\n",
      "  can/MD\n",
      "  have/VB\n",
      "  (NP the/DT vanilla/NN)\n",
      "  (NP phone/NN)\n",
      "  for/IN\n",
      "  $/$\n",
      "  730/CD\n",
      "  or/CC\n",
      "  the/DT\n",
      "  12/256/CD\n",
      "  GB/NNP\n",
      "  Pro/NNP\n",
      "  for/IN\n",
      "  $/$\n",
      "  1,070/CD)\n"
     ]
    }
   ],
   "source": [
    "grammar = \"NP: {<DT>?<JJ>*<NN>}\"\n",
    "cp  =nltk.RegexpParser(grammar)\n",
    "result = cp.parse(tag)\n",
    "print(result)"
   ]
  },
  {
   "cell_type": "code",
   "execution_count": 5,
   "id": "friendly-maria",
   "metadata": {},
   "outputs": [
    {
     "name": "stdout",
     "output_type": "stream",
     "text": [
      "$: dollar\n",
      "    $ -$ --$ A$ C$ HK$ M$ NZ$ S$ U.S.$ US$\n",
      "'': closing quotation mark\n",
      "    ' ''\n",
      "(: opening parenthesis\n",
      "    ( [ {\n",
      "): closing parenthesis\n",
      "    ) ] }\n",
      ",: comma\n",
      "    ,\n",
      "--: dash\n",
      "    --\n",
      ".: sentence terminator\n",
      "    . ! ?\n",
      ":: colon or ellipsis\n",
      "    : ; ...\n",
      "CC: conjunction, coordinating\n",
      "    & 'n and both but either et for less minus neither nor or plus so\n",
      "    therefore times v. versus vs. whether yet\n",
      "CD: numeral, cardinal\n",
      "    mid-1890 nine-thirty forty-two one-tenth ten million 0.5 one forty-\n",
      "    seven 1987 twenty '79 zero two 78-degrees eighty-four IX '60s .025\n",
      "    fifteen 271,124 dozen quintillion DM2,000 ...\n",
      "DT: determiner\n",
      "    all an another any both del each either every half la many much nary\n",
      "    neither no some such that the them these this those\n",
      "EX: existential there\n",
      "    there\n",
      "FW: foreign word\n",
      "    gemeinschaft hund ich jeux habeas Haementeria Herr K'ang-si vous\n",
      "    lutihaw alai je jour objets salutaris fille quibusdam pas trop Monte\n",
      "    terram fiche oui corporis ...\n",
      "IN: preposition or conjunction, subordinating\n",
      "    astride among uppon whether out inside pro despite on by throughout\n",
      "    below within for towards near behind atop around if like until below\n",
      "    next into if beside ...\n",
      "JJ: adjective or numeral, ordinal\n",
      "    third ill-mannered pre-war regrettable oiled calamitous first separable\n",
      "    ectoplasmic battery-powered participatory fourth still-to-be-named\n",
      "    multilingual multi-disciplinary ...\n",
      "JJR: adjective, comparative\n",
      "    bleaker braver breezier briefer brighter brisker broader bumper busier\n",
      "    calmer cheaper choosier cleaner clearer closer colder commoner costlier\n",
      "    cozier creamier crunchier cuter ...\n",
      "JJS: adjective, superlative\n",
      "    calmest cheapest choicest classiest cleanest clearest closest commonest\n",
      "    corniest costliest crassest creepiest crudest cutest darkest deadliest\n",
      "    dearest deepest densest dinkiest ...\n",
      "LS: list item marker\n",
      "    A A. B B. C C. D E F First G H I J K One SP-44001 SP-44002 SP-44005\n",
      "    SP-44007 Second Third Three Two * a b c d first five four one six three\n",
      "    two\n",
      "MD: modal auxiliary\n",
      "    can cannot could couldn't dare may might must need ought shall should\n",
      "    shouldn't will would\n",
      "NN: noun, common, singular or mass\n",
      "    common-carrier cabbage knuckle-duster Casino afghan shed thermostat\n",
      "    investment slide humour falloff slick wind hyena override subhumanity\n",
      "    machinist ...\n",
      "NNP: noun, proper, singular\n",
      "    Motown Venneboerger Czestochwa Ranzer Conchita Trumplane Christos\n",
      "    Oceanside Escobar Kreisler Sawyer Cougar Yvette Ervin ODI Darryl CTCA\n",
      "    Shannon A.K.C. Meltex Liverpool ...\n",
      "NNPS: noun, proper, plural\n",
      "    Americans Americas Amharas Amityvilles Amusements Anarcho-Syndicalists\n",
      "    Andalusians Andes Andruses Angels Animals Anthony Antilles Antiques\n",
      "    Apache Apaches Apocrypha ...\n",
      "NNS: noun, common, plural\n",
      "    undergraduates scotches bric-a-brac products bodyguards facets coasts\n",
      "    divestitures storehouses designs clubs fragrances averages\n",
      "    subjectivists apprehensions muses factory-jobs ...\n",
      "PDT: pre-determiner\n",
      "    all both half many quite such sure this\n",
      "POS: genitive marker\n",
      "    ' 's\n",
      "PRP: pronoun, personal\n",
      "    hers herself him himself hisself it itself me myself one oneself ours\n",
      "    ourselves ownself self she thee theirs them themselves they thou thy us\n",
      "PRP$: pronoun, possessive\n",
      "    her his mine my our ours their thy your\n",
      "RB: adverb\n",
      "    occasionally unabatingly maddeningly adventurously professedly\n",
      "    stirringly prominently technologically magisterially predominately\n",
      "    swiftly fiscally pitilessly ...\n",
      "RBR: adverb, comparative\n",
      "    further gloomier grander graver greater grimmer harder harsher\n",
      "    healthier heavier higher however larger later leaner lengthier less-\n",
      "    perfectly lesser lonelier longer louder lower more ...\n",
      "RBS: adverb, superlative\n",
      "    best biggest bluntest earliest farthest first furthest hardest\n",
      "    heartiest highest largest least less most nearest second tightest worst\n",
      "RP: particle\n",
      "    aboard about across along apart around aside at away back before behind\n",
      "    by crop down ever fast for forth from go high i.e. in into just later\n",
      "    low more off on open out over per pie raising start teeth that through\n",
      "    under unto up up-pp upon whole with you\n",
      "SYM: symbol\n",
      "    % & ' '' ''. ) ). * + ,. < = > @ A[fj] U.S U.S.S.R * ** ***\n",
      "TO: \"to\" as preposition or infinitive marker\n",
      "    to\n",
      "UH: interjection\n",
      "    Goodbye Goody Gosh Wow Jeepers Jee-sus Hubba Hey Kee-reist Oops amen\n",
      "    huh howdy uh dammit whammo shucks heck anyways whodunnit honey golly\n",
      "    man baby diddle hush sonuvabitch ...\n",
      "VB: verb, base form\n",
      "    ask assemble assess assign assume atone attention avoid bake balkanize\n",
      "    bank begin behold believe bend benefit bevel beware bless boil bomb\n",
      "    boost brace break bring broil brush build ...\n",
      "VBD: verb, past tense\n",
      "    dipped pleaded swiped regummed soaked tidied convened halted registered\n",
      "    cushioned exacted snubbed strode aimed adopted belied figgered\n",
      "    speculated wore appreciated contemplated ...\n",
      "VBG: verb, present participle or gerund\n",
      "    telegraphing stirring focusing angering judging stalling lactating\n",
      "    hankerin' alleging veering capping approaching traveling besieging\n",
      "    encrypting interrupting erasing wincing ...\n",
      "VBN: verb, past participle\n",
      "    multihulled dilapidated aerosolized chaired languished panelized used\n",
      "    experimented flourished imitated reunifed factored condensed sheared\n",
      "    unsettled primed dubbed desired ...\n",
      "VBP: verb, present tense, not 3rd person singular\n",
      "    predominate wrap resort sue twist spill cure lengthen brush terminate\n",
      "    appear tend stray glisten obtain comprise detest tease attract\n",
      "    emphasize mold postpone sever return wag ...\n",
      "VBZ: verb, present tense, 3rd person singular\n",
      "    bases reconstructs marks mixes displeases seals carps weaves snatches\n",
      "    slumps stretches authorizes smolders pictures emerges stockpiles\n",
      "    seduces fizzes uses bolsters slaps speaks pleads ...\n",
      "WDT: WH-determiner\n",
      "    that what whatever which whichever\n",
      "WP: WH-pronoun\n",
      "    that what whatever whatsoever which who whom whosoever\n",
      "WP$: WH-pronoun, possessive\n",
      "    whose\n",
      "WRB: Wh-adverb\n",
      "    how however whence whenever where whereby whereever wherein whereof why\n",
      "``: opening quotation mark\n",
      "    ` ``\n"
     ]
    }
   ],
   "source": [
    "nltk.help.upenn_tagset()"
   ]
  },
  {
   "cell_type": "code",
   "execution_count": 1,
   "id": "following-raising",
   "metadata": {},
   "outputs": [],
   "source": [
    "import nltk"
   ]
  },
  {
   "cell_type": "code",
   "execution_count": 2,
   "id": "dressed-richardson",
   "metadata": {},
   "outputs": [
    {
     "name": "stderr",
     "output_type": "stream",
     "text": [
      "[nltk_data] Downloading package wordnet to\n",
      "[nltk_data]     f:\\paraphrase\\paraphraseenv\\share\\nltk_data...\n",
      "[nltk_data]   Unzipping corpora\\wordnet.zip.\n"
     ]
    },
    {
     "data": {
      "text/plain": [
       "True"
      ]
     },
     "execution_count": 2,
     "metadata": {},
     "output_type": "execute_result"
    }
   ],
   "source": [
    "nltk.download('wordnet')"
   ]
  },
  {
   "cell_type": "code",
   "execution_count": 3,
   "id": "incident-window",
   "metadata": {},
   "outputs": [],
   "source": [
    "from nltk.corpus import wordnet   #Import wordnet from the NLTK"
   ]
  },
  {
   "cell_type": "code",
   "execution_count": 25,
   "id": "needed-sword",
   "metadata": {},
   "outputs": [
    {
     "data": {
      "text/plain": [
       "[Synset('ambidextrous.a.01'), Synset('ambidextrous.s.02')]"
      ]
     },
     "execution_count": 25,
     "metadata": {},
     "output_type": "execute_result"
    }
   ],
   "source": [
    "wordnet.synsets('ambidextrous')"
   ]
  },
  {
   "cell_type": "code",
   "execution_count": 43,
   "id": "perfect-excerpt",
   "metadata": {},
   "outputs": [
    {
     "name": "stdout",
     "output_type": "stream",
     "text": [
      "Synonyms: ['cheap', 'inexpensive', 'brassy', 'cheap', 'flash', 'flashy', 'garish', 'gaudy', 'gimcrack', 'loud', 'meretricious', 'tacky', 'tatty', 'tawdry', 'trashy', 'bum', 'cheap', 'cheesy', 'chintzy', 'crummy', 'punk', 'sleazy', 'tinny', 'cheap', 'chinchy', 'chintzy']\n"
     ]
    }
   ],
   "source": [
    "syn = list()\n",
    "for synset in wordnet.synsets(\"cheapest\"):\n",
    "    for lemma in synset.lemmas():\n",
    "        syn.append(lemma.name())\n",
    "print('Synonyms: ' + str(syn))"
   ]
  },
  {
   "cell_type": "code",
   "execution_count": 41,
   "id": "reported-indonesian",
   "metadata": {},
   "outputs": [
    {
     "data": {
      "text/plain": [
       "'chintzy'"
      ]
     },
     "execution_count": 41,
     "metadata": {},
     "output_type": "execute_result"
    }
   ],
   "source": [
    "wordnet.synsets(\"cheapest\")[-1].lemmas()[-1].name()"
   ]
  },
  {
   "cell_type": "code",
   "execution_count": null,
   "id": "certain-notification",
   "metadata": {},
   "outputs": [],
   "source": []
  }
 ],
 "metadata": {
  "kernelspec": {
   "display_name": "Python 3",
   "language": "python",
   "name": "python3"
  },
  "language_info": {
   "codemirror_mode": {
    "name": "ipython",
    "version": 3
   },
   "file_extension": ".py",
   "mimetype": "text/x-python",
   "name": "python",
   "nbconvert_exporter": "python",
   "pygments_lexer": "ipython3",
   "version": "3.8.1"
  }
 },
 "nbformat": 4,
 "nbformat_minor": 5
}
