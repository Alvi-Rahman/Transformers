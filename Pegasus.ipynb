{
 "cells": [
  {
   "cell_type": "code",
   "execution_count": 1,
   "id": "actual-tiger",
   "metadata": {},
   "outputs": [],
   "source": [
    "import torch\n",
    "from transformers import PegasusForConditionalGeneration, PegasusTokenizer, T5ForConditionalGeneration, T5Tokenizer\n",
    "from nltk.corpus import wordnet\n",
    "from nltk.tokenize import sent_tokenize\n",
    "import nltk"
   ]
  },
  {
   "cell_type": "code",
   "execution_count": 2,
   "id": "premier-gothic",
   "metadata": {},
   "outputs": [
    {
     "name": "stderr",
     "output_type": "stream",
     "text": [
      "f:\\paraphrase\\paraphraseenv\\lib\\site-packages\\torch\\cuda\\__init__.py:52: UserWarning: CUDA initialization: Found no NVIDIA driver on your system. Please check that you have an NVIDIA GPU and installed a driver from http://www.nvidia.com/Download/index.aspx (Triggered internally at  ..\\c10\\cuda\\CUDAFunctions.cpp:100.)\n",
      "  return torch._C._cuda_getDeviceCount() > 0\n"
     ]
    }
   ],
   "source": [
    "torch_device = 'cuda' if torch.cuda.is_available() else 'cpu'\n",
    "tokenizer = PegasusTokenizer.from_pretrained('try_new/Pegasus/Tokenizer/')\n",
    "model = PegasusForConditionalGeneration.from_pretrained('try_new/Pegasus/Model/').to(torch_device)\n",
    "\n",
    "\n",
    "# tokenizer = T5Tokenizer.from_pretrained('try_new/tokenizer/')\n",
    "# model = T5ForConditionalGeneration.from_pretrained('try_new/model/').to(torch_device)"
   ]
  },
  {
   "cell_type": "code",
   "execution_count": 3,
   "id": "opposite-praise",
   "metadata": {},
   "outputs": [],
   "source": [
    "def get_response(sentence):\n",
    "    input_text = sent_tokenize(sentence)\n",
    "    if len(input_text[-1]) < 5:\n",
    "        input_text = input_text[:-1]\n",
    "    \n",
    "    encoding = tokenizer.batch_encode_plus(input_text, padding=True, pad_to_multiple_of=16, return_tensors=\"pt\")\n",
    "    input_ids, attention_masks = encoding[\"input_ids\"].to(torch_device), encoding[\"attention_mask\"].to(torch_device)\n",
    "    translated = model.generate(input_ids=input_ids, \n",
    "                                attention_mask=attention_masks,\n",
    "                                do_sample=True,\n",
    "                                min_length=max([len(i.split()) for i in input_text]) - 2,\n",
    "                                max_length=max([len(i.split()) for i in input_text]) + 5,\n",
    "                                top_k=120,\n",
    "                                top_p=0.95,\n",
    "                                temperature=0.98,\n",
    "                                early_stopping=True,\n",
    "                                num_return_sequences=1,\n",
    "                                no_repeat_ngram_size = 3\n",
    "                               )\n",
    "    \n",
    "    tgt_text = tokenizer.batch_decode(translated, skip_special_tokens=True)\n",
    "    unmod = ' '.join(tgt_text)\n",
    "    final = ' '.join(tgt_text)\n",
    "    \n",
    "    tokens = nltk.word_tokenize(final)\n",
    "    tag = nltk.pos_tag(tokens)\n",
    "    tags_only = [i[1] for i in tag]\n",
    "    selected = [i for i, x in enumerate(tags_only) if x == \"NN\" or x==\"JJ\"]\n",
    "    syn = []\n",
    "\n",
    "    for i in selected:\n",
    "        try:\n",
    "            syn.append(wordnet.synsets(tokens[i])[-1].lemmas()[-1].name())\n",
    "        except:\n",
    "            syn.append(tokens[i])\n",
    "            pass\n",
    "     \n",
    "    j = 0\n",
    "    for i in selected:\n",
    "        tokens[i] = syn[j]\n",
    "        j+=1\n",
    "    \n",
    "    final = ' '.join(tokens)\n",
    "    \n",
    "    return final , unmod"
   ]
  },
  {
   "cell_type": "code",
   "execution_count": 4,
   "id": "suspected-building",
   "metadata": {},
   "outputs": [
    {
     "name": "stdout",
     "output_type": "stream",
     "text": [
      "The Android 11 update comes with version number 3.150 and requires a download of 1.5GB. It bumps up the Android security patch level on the Nokia 4.2 to March 2021 and brings new features to the smartphone, such as chat bubbles and one-time app permissions.\n",
      "\n",
      "Main\n",
      "The version keep_down of the update is 3.150 and requires a download of 1.5 gigaflops of disk space , according to the site . It brings new features to the ring , such as chat bubbles and sometime app permit , as well as raising the security_measures patch level on the ring .\n",
      "\n",
      "Unmod\n",
      "The version number of the update is 3.150 and requires a download of 1.5 gigaflops of disk space, according to the website. It brings new features to the phone, such as chat bubbles and one-time app permission, as well as raising the security patch level on the phone.\n"
     ]
    }
   ],
   "source": [
    "sentence = \"The Android 11 update comes with version number 3.150 and requires a download of 1.5GB. It bumps up the Android security patch level on the Nokia 4.2 to March 2021 and brings new features to the smartphone, such as chat bubbles and one-time app permissions.\"\n",
    "\n",
    "target_1, target_2 = get_response(sentence)\n",
    "\n",
    "print(sentence)\n",
    "print()\n",
    "print('Main')\n",
    "print(target_1)\n",
    "print()\n",
    "print('Unmod')\n",
    "print(target_2)"
   ]
  },
  {
   "cell_type": "code",
   "execution_count": null,
   "id": "intermediate-chambers",
   "metadata": {},
   "outputs": [],
   "source": []
  },
  {
   "cell_type": "code",
   "execution_count": null,
   "id": "latin-albuquerque",
   "metadata": {},
   "outputs": [],
   "source": []
  },
  {
   "cell_type": "code",
   "execution_count": null,
   "id": "robust-summary",
   "metadata": {},
   "outputs": [],
   "source": []
  },
  {
   "cell_type": "code",
   "execution_count": null,
   "id": "operating-knowing",
   "metadata": {},
   "outputs": [],
   "source": []
  },
  {
   "cell_type": "code",
   "execution_count": 17,
   "id": "julian-therapist",
   "metadata": {},
   "outputs": [
    {
     "data": {
      "text/plain": [
       "27"
      ]
     },
     "execution_count": 17,
     "metadata": {},
     "output_type": "execute_result"
    }
   ],
   "source": [
    "max([len(i.split()) for i in sentence.split('.')])"
   ]
  },
  {
   "cell_type": "code",
   "execution_count": 6,
   "id": "stainless-communication",
   "metadata": {},
   "outputs": [
    {
     "ename": "ModuleAttributeError",
     "evalue": "'T5ForConditionalGeneration' object has no attribute 'batch_encode_plus'",
     "output_type": "error",
     "traceback": [
      "\u001b[1;31m---------------------------------------------------------------------------\u001b[0m",
      "\u001b[1;31mModuleAttributeError\u001b[0m                      Traceback (most recent call last)",
      "\u001b[1;32m<ipython-input-6-2fe6ce40665b>\u001b[0m in \u001b[0;36m<module>\u001b[1;34m\u001b[0m\n\u001b[0;32m      3\u001b[0m \u001b[1;32mif\u001b[0m \u001b[0mlen\u001b[0m\u001b[1;33m(\u001b[0m\u001b[0minput_text\u001b[0m\u001b[1;33m[\u001b[0m\u001b[1;33m-\u001b[0m\u001b[1;36m1\u001b[0m\u001b[1;33m]\u001b[0m\u001b[1;33m)\u001b[0m \u001b[1;33m<\u001b[0m \u001b[1;36m5\u001b[0m\u001b[1;33m:\u001b[0m\u001b[1;33m\u001b[0m\u001b[1;33m\u001b[0m\u001b[0m\n\u001b[0;32m      4\u001b[0m     \u001b[0minput_text\u001b[0m \u001b[1;33m=\u001b[0m \u001b[0minput_text\u001b[0m\u001b[1;33m[\u001b[0m\u001b[1;33m:\u001b[0m\u001b[1;33m-\u001b[0m\u001b[1;36m1\u001b[0m\u001b[1;33m]\u001b[0m\u001b[1;33m\u001b[0m\u001b[1;33m\u001b[0m\u001b[0m\n\u001b[1;32m----> 5\u001b[1;33m \u001b[0mtokenizer\u001b[0m\u001b[1;33m.\u001b[0m\u001b[0mbatch_encode_plus\u001b[0m\u001b[1;33m(\u001b[0m\u001b[0minput_text\u001b[0m\u001b[1;33m,\u001b[0m\u001b[0mpadding\u001b[0m\u001b[1;33m=\u001b[0m\u001b[1;32mTrue\u001b[0m\u001b[1;33m,\u001b[0m \u001b[0mpad_to_multiple_of\u001b[0m\u001b[1;33m=\u001b[0m\u001b[1;36m16\u001b[0m\u001b[1;33m,\u001b[0m \u001b[0mreturn_tensors\u001b[0m\u001b[1;33m=\u001b[0m\u001b[1;34m\"pt\"\u001b[0m\u001b[1;33m)\u001b[0m\u001b[1;33m\u001b[0m\u001b[1;33m\u001b[0m\u001b[0m\n\u001b[0m",
      "\u001b[1;32mf:\\paraphrase\\paraphraseenv\\lib\\site-packages\\torch\\nn\\modules\\module.py\u001b[0m in \u001b[0;36m__getattr__\u001b[1;34m(self, name)\u001b[0m\n\u001b[0;32m    776\u001b[0m             \u001b[1;32mif\u001b[0m \u001b[0mname\u001b[0m \u001b[1;32min\u001b[0m \u001b[0mmodules\u001b[0m\u001b[1;33m:\u001b[0m\u001b[1;33m\u001b[0m\u001b[1;33m\u001b[0m\u001b[0m\n\u001b[0;32m    777\u001b[0m                 \u001b[1;32mreturn\u001b[0m \u001b[0mmodules\u001b[0m\u001b[1;33m[\u001b[0m\u001b[0mname\u001b[0m\u001b[1;33m]\u001b[0m\u001b[1;33m\u001b[0m\u001b[1;33m\u001b[0m\u001b[0m\n\u001b[1;32m--> 778\u001b[1;33m         raise ModuleAttributeError(\"'{}' object has no attribute '{}'\".format(\n\u001b[0m\u001b[0;32m    779\u001b[0m             type(self).__name__, name))\n\u001b[0;32m    780\u001b[0m \u001b[1;33m\u001b[0m\u001b[0m\n",
      "\u001b[1;31mModuleAttributeError\u001b[0m: 'T5ForConditionalGeneration' object has no attribute 'batch_encode_plus'"
     ]
    }
   ],
   "source": [
    "sentence = \"The Android 11 update comes with version number 3.150 and requires a download of 1.5GB. It bumps up the Android security patch level on the Nokia 4.2 to March 2021 and brings new features to the smartphone, such as chat bubbles and one-time app permissions.\"\n",
    "input_text = sent_tokenize(sentence)\n",
    "if len(input_text[-1]) < 5:\n",
    "    input_text = input_text[:-1]\n",
    "tokenizer.batch_encode_plus(input_text,padding=True, pad_to_multiple_of=16, return_tensors=\"pt\")"
   ]
  },
  {
   "cell_type": "code",
   "execution_count": 49,
   "id": "lesbian-penalty",
   "metadata": {},
   "outputs": [
    {
     "data": {
      "text/plain": [
       "\"It is easy to get starstruck by the Pro sibling, but the OnePlus 9 is a capable alternative at a lower cost. The base version of the 9 Pro is not available in the US, so you're looking at a huge gap. You can have the vanilla phone for $730 or the 12/128 gigabyte pro for $1,070, whichever is less.\""
      ]
     },
     "execution_count": 49,
     "metadata": {},
     "output_type": "execute_result"
    }
   ],
   "source": [
    "b = model.generate(input_ids=a['input_ids'], \n",
    "                attention_mask=a['attention_mask'],\n",
    "                do_sample=True,\n",
    "                min_length=max([len(i.split()) for i in sentence.split('.')]) - 2,\n",
    "                max_length=max([len(i.split()) for i in sentence.split('.')]) + 5,\n",
    "                top_k=120,\n",
    "                top_p=0.95,\n",
    "                temperature=0.98,\n",
    "                early_stopping=True,\n",
    "                num_return_sequences=1,\n",
    "                no_repeat_ngram_size = 3\n",
    "               )\n",
    "c = tokenizer.batch_decode(b, skip_special_tokens=True)\n",
    "' '.join(c)"
   ]
  },
  {
   "cell_type": "code",
   "execution_count": 50,
   "id": "together-stack",
   "metadata": {},
   "outputs": [
    {
     "data": {
      "text/plain": [
       "'While it’s easy to get starstruck by its Pro sibling, the OnePlus 9 is a capable alternative at a lower cost. You’re looking at quite a gap, especially in the US where (for some unknown reason), the base 8/128 GB version of the 9 Pro is not available. This means you can have the vanilla phone for $730 or the 12/256 GB Pro for $1,070'"
      ]
     },
     "execution_count": 50,
     "metadata": {},
     "output_type": "execute_result"
    }
   ],
   "source": [
    "sentence"
   ]
  },
  {
   "cell_type": "code",
   "execution_count": null,
   "id": "choice-category",
   "metadata": {},
   "outputs": [],
   "source": []
  },
  {
   "cell_type": "code",
   "execution_count": null,
   "id": "controversial-opening",
   "metadata": {},
   "outputs": [],
   "source": []
  },
  {
   "cell_type": "code",
   "execution_count": 13,
   "id": "posted-headline",
   "metadata": {},
   "outputs": [
    {
     "data": {
      "text/plain": [
       "'While it’s easy to get starstruck by its Pro sibling, the OnePlus 9 is a capable alternative at a lower cost. You’re looking at quite a gap, especially in the US where (for some unknown reason), the base 8/128 GB version of the 9 Pro is not available. This means you can have the vanilla phone for $730 or the 12/256 GB Pro for $1,070'"
      ]
     },
     "execution_count": 13,
     "metadata": {},
     "output_type": "execute_result"
    }
   ],
   "source": [
    "sentence"
   ]
  },
  {
   "cell_type": "code",
   "execution_count": null,
   "id": "experienced-mixer",
   "metadata": {},
   "outputs": [],
   "source": []
  },
  {
   "cell_type": "code",
   "execution_count": null,
   "id": "prime-margin",
   "metadata": {},
   "outputs": [],
   "source": [
    "import random"
   ]
  },
  {
   "cell_type": "code",
   "execution_count": 14,
   "id": "theoretical-fiber",
   "metadata": {},
   "outputs": [],
   "source": [
    "tok1 = nltk.word_tokenize(target)\n",
    "tag2 = nltk.pos_tag(tok1)"
   ]
  },
  {
   "cell_type": "code",
   "execution_count": 28,
   "id": "sought-reverse",
   "metadata": {},
   "outputs": [],
   "source": [
    "temp = [i[1] for i in tag2]"
   ]
  },
  {
   "cell_type": "code",
   "execution_count": 52,
   "id": "legal-treatment",
   "metadata": {},
   "outputs": [],
   "source": [
    "temp_2 = [i for i, x in enumerate(temp) if x == \"NN\" or x==\"JJ\"]"
   ]
  },
  {
   "cell_type": "code",
   "execution_count": 53,
   "id": "stuck-burner",
   "metadata": {},
   "outputs": [
    {
     "data": {
      "text/plain": [
       "[2, 4, 16, 17, 20, 21, 28, 39, 40, 46]"
      ]
     },
     "execution_count": 53,
     "metadata": {},
     "output_type": "execute_result"
    }
   ],
   "source": [
    "temp_2"
   ]
  },
  {
   "cell_type": "code",
   "execution_count": 54,
   "id": "african-decimal",
   "metadata": {
    "scrolled": true
   },
   "outputs": [
    {
     "data": {
      "text/plain": [
       "['quint',\n",
       " 'painless',\n",
       " 'cut-rate',\n",
       " 'default',\n",
       " 'ground',\n",
       " 'approximation',\n",
       " 'gettable',\n",
       " 'immense',\n",
       " 'spread',\n",
       " 'speakerphone']"
      ]
     },
     "execution_count": 54,
     "metadata": {},
     "output_type": "execute_result"
    }
   ],
   "source": [
    "[dictionary.synonym(tok1[i])[-1] for i in temp_2]"
   ]
  },
  {
   "cell_type": "code",
   "execution_count": 55,
   "id": "undefined-silicon",
   "metadata": {},
   "outputs": [
    {
     "data": {
      "text/plain": [
       "['sibling',\n",
       " 'easy',\n",
       " 'cheaper',\n",
       " 'alternative',\n",
       " 'base',\n",
       " 'version',\n",
       " 'available',\n",
       " 'huge',\n",
       " 'gap',\n",
       " 'phone']"
      ]
     },
     "execution_count": 55,
     "metadata": {},
     "output_type": "execute_result"
    }
   ],
   "source": [
    "[tok1[i] for i in temp_2]"
   ]
  },
  {
   "cell_type": "code",
   "execution_count": 45,
   "id": "associate-monitoring",
   "metadata": {},
   "outputs": [
    {
     "name": "stdout",
     "output_type": "stream",
     "text": [
      "aaaa has no Synonyms in the API\n"
     ]
    }
   ],
   "source": [
    "try:\n",
    "    dictionary.synonym('aaaa')"
   ]
  },
  {
   "cell_type": "code",
   "execution_count": null,
   "id": "arabic-phase",
   "metadata": {},
   "outputs": [],
   "source": []
  },
  {
   "cell_type": "code",
   "execution_count": null,
   "id": "spoken-prague",
   "metadata": {},
   "outputs": [],
   "source": []
  },
  {
   "cell_type": "code",
   "execution_count": 36,
   "id": "seeing-genius",
   "metadata": {},
   "outputs": [
    {
     "data": {
      "text/plain": [
       "17"
      ]
     },
     "execution_count": 36,
     "metadata": {},
     "output_type": "execute_result"
    }
   ],
   "source": [
    "max([len(i.split()) for i in context])\n",
    "\n",
    "min([len(i.split()) for i in context])"
   ]
  },
  {
   "cell_type": "code",
   "execution_count": null,
   "id": "joint-granny",
   "metadata": {},
   "outputs": [],
   "source": []
  },
  {
   "cell_type": "code",
   "execution_count": null,
   "id": "raised-trinity",
   "metadata": {},
   "outputs": [],
   "source": []
  },
  {
   "cell_type": "code",
   "execution_count": 19,
   "id": "excellent-pickup",
   "metadata": {},
   "outputs": [],
   "source": [
    "# model.save_pretrained('Pegasus/Model/')"
   ]
  },
  {
   "cell_type": "code",
   "execution_count": 56,
   "id": "median-montana",
   "metadata": {},
   "outputs": [],
   "source": [
    "tokens = nltk.word_tokenize(target)\n",
    "tag = nltk.pos_tag(tokens)\n",
    "tags_only = [i[1] for i in tag]\n",
    "selected = [i for i, x in enumerate(tags_only) if x == \"NN\" or x==\"JJ\"]\n",
    "syn = []\n",
    "for i in selected:\n",
    "    temp = dictionary.synonym(tokens[i])\n",
    "\n",
    "    if type(temp) == list:\n",
    "        syn.append(temp[-1])\n",
    "    else:\n",
    "        syn.append(tokens[i])\n",
    "\n",
    "j = 0\n",
    "for i in selected:\n",
    "    tokens[i] = syn[j]\n",
    "    j+=1\n",
    "\n",
    "final = ' '.join(tokens)"
   ]
  },
  {
   "cell_type": "code",
   "execution_count": 57,
   "id": "ahead-lloyd",
   "metadata": {},
   "outputs": [
    {
     "data": {
      "text/plain": [
       "'The Pro quint is painless to get starstruck by , but the OnePlus 9 is a cut-rate default . The ground approximation of the 9 Pro is not gettable in the US , so you are looking at a immense spread . You can get the speakerphone for $ 730 or the Pro for $ 1,070 , whichever is less .'"
      ]
     },
     "execution_count": 57,
     "metadata": {},
     "output_type": "execute_result"
    }
   ],
   "source": [
    "final"
   ]
  },
  {
   "cell_type": "code",
   "execution_count": 58,
   "id": "square-current",
   "metadata": {},
   "outputs": [
    {
     "data": {
      "text/plain": [
       "'The Pro sibling is easy to get starstruck by, but the OnePlus 9 is a cheaper alternative. The base version of the 9 Pro is not available in the US, so you are looking at a huge gap. You can get the phone for $730 or the Pro for $1,070, whichever is less.'"
      ]
     },
     "execution_count": 58,
     "metadata": {},
     "output_type": "execute_result"
    }
   ],
   "source": [
    "target"
   ]
  },
  {
   "cell_type": "code",
   "execution_count": 59,
   "id": "located-light",
   "metadata": {},
   "outputs": [
    {
     "data": {
      "text/plain": [
       "'While it’s easy to get starstruck by its Pro sibling, the OnePlus 9 is a capable alternative at a lower cost. You’re looking at quite a gap, especially in the US where (for some unknown reason), the base 8/128 GB version of the 9 Pro is not available. This means you can have the vanilla phone for $730 or the 12/256 GB Pro for $1,070'"
      ]
     },
     "execution_count": 59,
     "metadata": {},
     "output_type": "execute_result"
    }
   ],
   "source": [
    "sentence"
   ]
  },
  {
   "cell_type": "code",
   "execution_count": null,
   "id": "mental-creation",
   "metadata": {},
   "outputs": [],
   "source": []
  },
  {
   "cell_type": "code",
   "execution_count": null,
   "id": "plastic-reminder",
   "metadata": {},
   "outputs": [],
   "source": []
  },
  {
   "cell_type": "code",
   "execution_count": 1,
   "id": "opening-spouse",
   "metadata": {},
   "outputs": [],
   "source": [
    "import nltk"
   ]
  },
  {
   "cell_type": "code",
   "execution_count": 2,
   "id": "consistent-approach",
   "metadata": {},
   "outputs": [
    {
     "name": "stderr",
     "output_type": "stream",
     "text": [
      "[nltk_data] Downloading package wordnet to\n",
      "[nltk_data]     f:\\paraphrase\\paraphraseenv\\share\\nltk_data...\n",
      "[nltk_data]   Package wordnet is already up-to-date!\n"
     ]
    },
    {
     "data": {
      "text/plain": [
       "True"
      ]
     },
     "execution_count": 2,
     "metadata": {},
     "output_type": "execute_result"
    }
   ],
   "source": [
    "nltk.download('wordnet')"
   ]
  },
  {
   "cell_type": "code",
   "execution_count": 3,
   "id": "likely-salvation",
   "metadata": {},
   "outputs": [],
   "source": [
    "from nltk.corpus import wordnet"
   ]
  },
  {
   "cell_type": "code",
   "execution_count": 6,
   "id": "decent-america",
   "metadata": {},
   "outputs": [
    {
     "data": {
      "text/plain": [
       "'chintzy'"
      ]
     },
     "execution_count": 6,
     "metadata": {},
     "output_type": "execute_result"
    }
   ],
   "source": [
    "wordnet.synsets(\"cheapest\")[-1].lemmas()[-1].name()"
   ]
  },
  {
   "cell_type": "code",
   "execution_count": 7,
   "id": "isolated-resource",
   "metadata": {},
   "outputs": [],
   "source": [
    "a = 'While it’s easy to get starstruck by its Pro sibling, the OnePlus 9 is a capable alternative at a lower cost. You’re looking at quite a gap, especially in the US where (for some unknown reason), the base 8/128 GB version of the 9 Pro is not available. This means you can have the vanilla phone for $730 or the 12/256 GB Pro for $1,070'"
   ]
  },
  {
   "cell_type": "code",
   "execution_count": 10,
   "id": "liberal-mistress",
   "metadata": {},
   "outputs": [
    {
     "name": "stdout",
     "output_type": "stream",
     "text": [
      "While it’s easy to get starstruck by its Pro sibling, the OnePlus 9 is a capable alternative at a lower cost. You’re looking at quite a gap, especially in the US where (for some unknown reason), the base 8/128 GB version of the 9 Pro is not available. This means you can have the vanilla phone for $730 or the 12/256 GB Pro for $1,070\n",
      "\n",
      "While it'S soft to get starstruck by its Pro sib , the OnePlus 9 is a capable alternative at a lower cost . You'ray looking at quite a breach , especially in the US where ( for some unknown reason ) , the base 8/128 GB version of the 9 Pro is not useable . This means you can have the vanilla ring for $ 730 or the 12/256 GB Pro for $ 1,070\n"
     ]
    }
   ],
   "source": [
    "tokens = nltk.word_tokenize(a)\n",
    "tag = nltk.pos_tag(tokens)\n",
    "tags_only = [i[1] for i in tag]\n",
    "selected = [i for i, x in enumerate(tags_only) if x == \"NN\" or x==\"JJ\"]\n",
    "syn = []\n",
    "for i in selected:\n",
    "    try:\n",
    "        syn.append(wordnet.synsets(tokens[i])[-1].lemmas()[-1].name())\n",
    "    except:\n",
    "        syn.append(tokens[i])\n",
    "        pass\n",
    "\n",
    "j = 0\n",
    "for i in selected:\n",
    "    tokens[i] = syn[j]\n",
    "    j+=1\n",
    "\n",
    "b = ' '.join(tokens)\n",
    "\n",
    "print(a)\n",
    "print()\n",
    "print(b.replace(' ’ ','\\''))"
   ]
  },
  {
   "cell_type": "code",
   "execution_count": 56,
   "id": "severe-cause",
   "metadata": {},
   "outputs": [],
   "source": [
    "from nltk.tokenize import sent_tokenize\n",
    "text = \"The Android 11 update comes with version number 3.150 and requires a download of 1.5GB. It bumps up the Android security patch level on the Nokia 4.2 to March 2021 and brings new features to the smartphone, such as chat bubbles and one-time app permissions.\""
   ]
  },
  {
   "cell_type": "code",
   "execution_count": 58,
   "id": "covered-middle",
   "metadata": {},
   "outputs": [
    {
     "name": "stdout",
     "output_type": "stream",
     "text": [
      "['The Android 11 update comes with version number 3.150 and requires a download of 1.5GB.', 'It bumps up the Android security patch level on the Nokia 4.2 to March 2021 and brings new features to the smartphone, such as chat bubbles and one-time app permissions.']\n"
     ]
    }
   ],
   "source": [
    "print(sent_tokenize(text))"
   ]
  },
  {
   "cell_type": "code",
   "execution_count": null,
   "id": "antique-claim",
   "metadata": {},
   "outputs": [],
   "source": []
  }
 ],
 "metadata": {
  "kernelspec": {
   "display_name": "Python 3",
   "language": "python",
   "name": "python3"
  },
  "language_info": {
   "codemirror_mode": {
    "name": "ipython",
    "version": 3
   },
   "file_extension": ".py",
   "mimetype": "text/x-python",
   "name": "python",
   "nbconvert_exporter": "python",
   "pygments_lexer": "ipython3",
   "version": "3.8.1"
  }
 },
 "nbformat": 4,
 "nbformat_minor": 5
}
